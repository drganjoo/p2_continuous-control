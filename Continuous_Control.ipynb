{
 "cells": [
  {
   "cell_type": "markdown",
   "metadata": {},
   "source": [
    "# Continuous Control\n",
    "\n",
    "---\n",
    "\n",
    "In this notebook, you will learn how to use the Unity ML-Agents environment for the second project of the [Deep Reinforcement Learning Nanodegree](https://www.udacity.com/course/deep-reinforcement-learning-nanodegree--nd893) program.\n",
    "\n",
    "### 1. Start the Environment\n",
    "\n",
    "We begin by importing the necessary packages.  If the code cell below returns an error, please revisit the project instructions to double-check that you have installed [Unity ML-Agents](https://github.com/Unity-Technologies/ml-agents/blob/master/docs/Installation.md) and [NumPy](http://www.numpy.org/)."
   ]
  },
  {
   "cell_type": "code",
   "execution_count": 1,
   "metadata": {},
   "outputs": [],
   "source": [
    "from unityagents import UnityEnvironment\n",
    "import numpy as np"
   ]
  },
  {
   "cell_type": "markdown",
   "metadata": {},
   "source": [
    "Next, we will start the environment!  **_Before running the code cell below_**, change the `file_name` parameter to match the location of the Unity environment that you downloaded.\n",
    "\n",
    "- **Mac**: `\"path/to/Reacher.app\"`\n",
    "- **Windows** (x86): `\"path/to/Reacher_Windows_x86/Reacher.exe\"`\n",
    "- **Windows** (x86_64): `\"path/to/Reacher_Windows_x86_64/Reacher.exe\"`\n",
    "- **Linux** (x86): `\"path/to/Reacher_Linux/Reacher.x86\"`\n",
    "- **Linux** (x86_64): `\"path/to/Reacher_Linux/Reacher.x86_64\"`\n",
    "- **Linux** (x86, headless): `\"path/to/Reacher_Linux_NoVis/Reacher.x86\"`\n",
    "- **Linux** (x86_64, headless): `\"path/to/Reacher_Linux_NoVis/Reacher.x86_64\"`\n",
    "\n",
    "For instance, if you are using a Mac, then you downloaded `Reacher.app`.  If this file is in the same folder as the notebook, then the line below should appear as follows:\n",
    "```\n",
    "env = UnityEnvironment(file_name=\"Reacher.app\")\n",
    "```"
   ]
  },
  {
   "cell_type": "code",
   "execution_count": 2,
   "metadata": {},
   "outputs": [
    {
     "name": "stderr",
     "output_type": "stream",
     "text": [
      "INFO:unityagents:\n",
      "'Academy' started successfully!\n",
      "Unity Academy name: Academy\n",
      "        Number of Brains: 1\n",
      "        Number of External Brains : 1\n",
      "        Lesson number : 0\n",
      "        Reset Parameters :\n",
      "\t\tgoal_speed -> 1.0\n",
      "\t\tgoal_size -> 5.0\n",
      "Unity brain name: ReacherBrain\n",
      "        Number of Visual Observations (per agent): 0\n",
      "        Vector Observation space type: continuous\n",
      "        Vector Observation space size (per agent): 33\n",
      "        Number of stacked Vector Observation: 1\n",
      "        Vector Action space type: continuous\n",
      "        Vector Action space size (per agent): 4\n",
      "        Vector Action descriptions: , , , \n"
     ]
    }
   ],
   "source": [
    "import sys\n",
    "\n",
    "if sys.platform == 'darwin':\n",
    "    env = UnityEnvironment(file_name='Reacher.app')\n",
    "else:\n",
    "    env = UnityEnvironment(file_name='./Reacher_Windows_x86_64/Reacher.exe')"
   ]
  },
  {
   "cell_type": "markdown",
   "metadata": {},
   "source": [
    "Environments contain **_brains_** which are responsible for deciding the actions of their associated agents. Here we check for the first brain available, and set it as the default brain we will be controlling from Python."
   ]
  },
  {
   "cell_type": "code",
   "execution_count": 3,
   "metadata": {},
   "outputs": [
    {
     "name": "stdout",
     "output_type": "stream",
     "text": [
      "Using brain name: ReacherBrain\n"
     ]
    }
   ],
   "source": [
    "# get the default brain\n",
    "brain_name = env.brain_names[0]\n",
    "brain = env.brains[brain_name]\n",
    "\n",
    "print(f'Using brain name: {brain_name}')"
   ]
  },
  {
   "cell_type": "markdown",
   "metadata": {},
   "source": [
    "### 2. Examine the State and Action Spaces\n",
    "\n",
    "In this environment, a double-jointed arm can move to target locations. A reward of `+0.1` is provided for each step that the agent's hand is in the goal location. Thus, the goal of your agent is to maintain its position at the target location for as many time steps as possible.\n",
    "\n",
    "The observation space consists of `33` variables corresponding to position, rotation, velocity, and angular velocities of the arm.  Each action is a vector with four numbers, corresponding to torque applicable to two joints.  Every entry in the action vector must be a number between `-1` and `1`.\n",
    "\n",
    "Run the code cell below to print some information about the environment."
   ]
  },
  {
   "cell_type": "code",
   "execution_count": 4,
   "metadata": {},
   "outputs": [
    {
     "name": "stdout",
     "output_type": "stream",
     "text": [
      "Number of agents: 20\n",
      "Size of each action: 4\n",
      "There are 20 agents. Each observes a state with length: 33\n",
      "The state for the first agent looks like: [ 0.00000000e+00 -4.00000000e+00  0.00000000e+00  1.00000000e+00\n",
      " -0.00000000e+00 -0.00000000e+00 -4.37113883e-08  0.00000000e+00\n",
      "  0.00000000e+00  0.00000000e+00  0.00000000e+00  0.00000000e+00\n",
      "  0.00000000e+00  0.00000000e+00 -1.00000000e+01  0.00000000e+00\n",
      "  1.00000000e+00 -0.00000000e+00 -0.00000000e+00 -4.37113883e-08\n",
      "  0.00000000e+00  0.00000000e+00  0.00000000e+00  0.00000000e+00\n",
      "  0.00000000e+00  0.00000000e+00  5.75471878e+00 -1.00000000e+00\n",
      "  5.55726624e+00  0.00000000e+00  1.00000000e+00  0.00000000e+00\n",
      " -1.68164849e-01]\n"
     ]
    }
   ],
   "source": [
    "# reset the environment\n",
    "env_info = env.reset(train_mode=True)[brain_name]\n",
    "\n",
    "# number of agents\n",
    "num_agents = len(env_info.agents)\n",
    "print('Number of agents:', num_agents)\n",
    "\n",
    "# size of each action\n",
    "action_size = brain.vector_action_space_size\n",
    "print('Size of each action:', action_size)\n",
    "\n",
    "# examine the state space \n",
    "states = env_info.vector_observations\n",
    "state_size = states.shape[1]\n",
    "print('There are {} agents. Each observes a state with length: {}'.format(states.shape[0], state_size))\n",
    "print('The state for the first agent looks like:', states[0])"
   ]
  },
  {
   "cell_type": "markdown",
   "metadata": {},
   "source": [
    "### 3. Take Random Actions in the Environment\n",
    "\n",
    "In the next code cell, you will learn how to use the Python API to control the agent and receive feedback from the environment.\n",
    "\n",
    "Once this cell is executed, you will watch the agent's performance, if it selects an action at random with each time step.  A window should pop up that allows you to observe the agent, as it moves through the environment.  \n",
    "\n",
    "Of course, as part of the project, you'll have to change the code so that the agent is able to use its experience to gradually choose better actions when interacting with the environment!"
   ]
  },
  {
   "cell_type": "code",
   "execution_count": null,
   "metadata": {},
   "outputs": [],
   "source": [
    "env_info = env.reset(train_mode=False)[brain_name]     # reset the environment    \n",
    "states = env_info.vector_observations                  # get the current state (for each agent)\n",
    "scores = np.zeros(num_agents)                          # initialize the score (for each agent)\n",
    "while True:\n",
    "    actions = np.random.randn(num_agents, action_size) # select an action (for each agent)\n",
    "    actions = np.clip(actions, -1, 1)                  # all actions between -1 and 1\n",
    "    env_info = env.step(actions)[brain_name]           # send all actions to tne environment\n",
    "    next_states = env_info.vector_observations         # get next state (for each agent)\n",
    "    rewards = env_info.rewards                         # get reward (for each agent)\n",
    "    dones = env_info.local_done                        # see if episode finished\n",
    "    scores += env_info.rewards                         # update the score (for each agent)\n",
    "    states = next_states                               # roll over states to next time step\n",
    "    if np.any(dones):                                  # exit loop if episode finished\n",
    "        break\n",
    "print('Total score (averaged over agents) this episode: {}'.format(np.mean(scores)))"
   ]
  },
  {
   "cell_type": "markdown",
   "metadata": {},
   "source": [
    "When finished, you can close the environment."
   ]
  },
  {
   "cell_type": "code",
   "execution_count": null,
   "metadata": {},
   "outputs": [],
   "source": [
    "env.close()"
   ]
  },
  {
   "cell_type": "markdown",
   "metadata": {},
   "source": [
    "### 4. It's Your Turn!\n",
    "\n",
    "Now it's your turn to train your own agent to solve the environment!  When training the environment, set `train_mode=True`, so that the line for resetting the environment looks like the following:\n",
    "```python\n",
    "env_info = env.reset(train_mode=True)[brain_name]\n",
    "```"
   ]
  },
  {
   "cell_type": "markdown",
   "metadata": {},
   "source": [
    "## Train"
   ]
  },
  {
   "cell_type": "markdown",
   "metadata": {},
   "source": [
    "### Actor / Critic Network\n",
    "\n",
    "**Actor Network:**\n",
    "\n",
    "|Layer|Input|Non Linear Function|Output|\n",
    "|-|-|-|-|\n",
    "|Input Layer|33|Relu|400|\n",
    "|Hidden Layer|400|Relu|300|\n",
    "|Ouptut|300|Relu|4|\n",
    "\n",
    "\n",
    "**Critic Network:**\n",
    "\n",
    "|Layer|Input|Non Linear Function|Output|\n",
    "|-|-|-|-|\n",
    "|Input Layer|33|Relu|400|\n",
    "|Hidden Layer|**400 + 4** (actions)|Relu|300|\n",
    "|Ouptut|300|Relu|1|\n"
   ]
  },
  {
   "cell_type": "code",
   "execution_count": 5,
   "metadata": {},
   "outputs": [],
   "source": [
    "import torch\n",
    "import torch.nn as nn\n",
    "\n",
    "class BaseNetwork(nn.Module):\n",
    "    def __init__(self, device='cpu'):\n",
    "        super().__init__()\n",
    "        self.device = device\n",
    "\n",
    "    def _initialize_layer_uniform(self, layer, init_w=3e-3):\n",
    "        #nn.init.kaming_normal_(layer.weight.data, a=0, mode='fan_in')\n",
    "        layer.weight.data.uniform_(-init_w, init_w)\n",
    "        layer.bias.data.fill_(0)\n",
    "        \n",
    "    def _initialize_layer_orthognal(self, layer, scale=1e-3):\n",
    "        nn.init.orthogonal_(layer.weight.data)\n",
    "        layer.weight.data.mul_(scale)\n",
    "        layer.bias.data.fill_(0)\n",
    "        \n",
    "    def _initialize_layer_kaiming(self, layer):\n",
    "        nn.init.kaiming_normal_(layer.weight.data, a=0, mode='fan_in')\n",
    "        layer.bias.data.fill_(0)\n",
    "        \n",
    "    def initialize_weights(self):\n",
    "        self._initialize_layer_orthognal(self.fc_input)\n",
    "        self._initialize_layer_orthognal(self.hidden)\n",
    "        self._initialize_layer_uniform(self.fc_output, init_w=3e-3)\n",
    "\n",
    "        \n",
    "class ActorDDPGNetwork(BaseNetwork):\n",
    "    def __init__(self, state_size, action_size, layer1=400, layer2=300, device = 'cpu'):\n",
    "        super().__init__(device)\n",
    "        \n",
    "        self.fc_input = nn.Linear(state_size, layer1).float().to(device)\n",
    "        self.hidden = nn.Linear(layer1, layer2).float().to(device)\n",
    "        self.fc_output = nn.Linear(layer2, action_size).float().to(device)\n",
    "\n",
    "    def forward(self, state):\n",
    "        output = torch.relu(self.fc_input(state))\n",
    "        output = torch.relu(self.hidden(output))\n",
    "        output = self.fc_output(output)\n",
    "        return torch.tanh(output)\n",
    "        \n",
    "class CriticDDPGNetwork(BaseNetwork):\n",
    "    def __init__(self, state_size, action_size, layer1=400, layer2=300, device = 'cpu'):\n",
    "        super().__init__(device)\n",
    "        \n",
    "        self.fc_input = nn.Linear(state_size, layer1).float().to(device)\n",
    "        self.hidden = nn.Linear(layer1 + action_size, layer2).float().to(device)\n",
    "        self.fc_output = nn.Linear(layer2, 1).float().to(device)\n",
    "\n",
    "    def forward(self, state, action):\n",
    "        output = torch.relu(self.fc_input(state))\n",
    "        # second layer has the state + action coming into it\n",
    "        state_action = torch.cat((output, action), dim=1)\n",
    "        output = torch.relu(self.hidden(state_action))\n",
    "        output = self.fc_output(output)\n",
    "        return output"
   ]
  },
  {
   "cell_type": "markdown",
   "metadata": {},
   "source": [
    "# Alogrithm Summary\n",
    "\n",
    "1. Accumulate initial samples till replay buffer is full\n",
    "2. Train every 10th step\n",
    "3. Train critic:\n",
    "\n",
    "a. Get next action from target actor    \n",
    "b. Get next_state, next_action value from target critic    \n",
    "c. Compute y = reward + gamma * value returned by target_critic    \n",
    "d. Compute current_value = local_critic network (current_state, action taken in that state)    \n",
    "e. Compute Mean Squared Error between y and current_value    \n",
    "f. optimize critic    \n",
    "\n",
    "4. Train actor:\n",
    "\n",
    "a. Pass current state to local actor to get predicted action     \n",
    "b. Pass current state, predicted action to local critic     \n",
    "c. Define loss as -ve mean of local critic   \n",
    "d. Optimize actor  \n",
    "\n",
    "5. Soft update weights on target networks"
   ]
  },
  {
   "cell_type": "code",
   "execution_count": 6,
   "metadata": {},
   "outputs": [],
   "source": [
    "import torch\n",
    "import torch.nn as nn\n",
    "from replay import ReplayBuffer, Experience\n",
    "from noise import OUNoise\n",
    "from collections import deque\n",
    "\n",
    "class ActorCriticAgent:\n",
    "    def __init__(self, actor, critic, device='cpu', bootstrap_len=5):\n",
    "        self.bootstrap_len = bootstrap_len\n",
    "        self.device = device\n",
    "\n",
    "        self.actor = actor.to(device)\n",
    "        self.critic = critic.to(device)\n",
    "        self.gamma_discount = 0.99\n",
    "        \n",
    "        self.critic_optim = None\n",
    "        self.actor_optim = None\n",
    "        \n",
    "        self.step_count = 0\n",
    "        print(f'Using device: {device}')\n",
    "\n",
    "    def discount_rewards(self, r):\n",
    "        # apply GAE\n",
    "        pass\n",
    "\n",
    "    def init_training(self, actor_lr=0.009, critic_lr=0.009, seed=None):\n",
    "        self.critic_optim = torch.optim.Adam(self.critic.parameters(), lr=actor_lr)\n",
    "        self.actor_optim = torch.optim.Adam(self.actor.parameters(), lr=critic_lr)\n",
    "        \n",
    "        if seed != None:\n",
    "            torch.manual_seed(seed)\n",
    "            \n",
    "        self.actor.initialize_weights()\n",
    "        self.critic.initialize_weights()\n",
    "        \n",
    "        # make sure the two neural networks are in training mode not in eval mode\n",
    "        self.actor.train()\n",
    "        self.critic.train()\n",
    "\n",
    "    def load(self, weights_file):\n",
    "        data = torch.load(filename)\n",
    "        self.actor.load_state_dict(data['actor'])\n",
    "        self.critic.load_state_dict(data['critic'])\n",
    "\n",
    "    def save(self, filename):\n",
    "        data = {'actor': self.actor.state_dict(), 'critic': self.critic.state_dict()}\n",
    "        torch.save(data, filename)\n",
    "    \n",
    "    \n",
    "class DDPGAgent(ActorCriticAgent):\n",
    "    def __init__(self, device = 'cpu'):\n",
    "        super().__init__(ActorDDPGNetwork(state_size, action_size), CriticDDPGNetwork(state_size, action_size), device=device)\n",
    "        self.replay_buffer = ReplayBuffer(maxlen=10000, batch_size=128)\n",
    "        self.noise = OUNoise(action_size)\n",
    "        self.actor_target = None\n",
    "        self.critic_target =  None\n",
    "        self.tau = 1e-3\n",
    "        self.gamma = 0.99\n",
    "        self.state_mean = np.zeros(state_size)\n",
    "        self.state_std = np.ones(state_size)\n",
    "        self.learn_every = 10\n",
    "        self.step_count = 0\n",
    "        \n",
    "    def normalize(self, state):\n",
    "        return (state - self.state_mean) / (self.state_std + 1e-9)\n",
    "    \n",
    "    def act(self, state, add_noise=False):\n",
    "        state = self.normalize(state)\n",
    "        state_tensor = torch.from_numpy(state).float().to(self.device)\n",
    "        self.actor.eval()\n",
    "        with torch.no_grad():\n",
    "            action = self.actor(state_tensor).cpu().data.numpy()\n",
    "        self.actor.train()\n",
    "\n",
    "        if add_noise:\n",
    "            action += self.generate_noise()\n",
    "        \n",
    "        return np.clip(action, -1, 1)\n",
    "    \n",
    "    def init_training(self, actor_lr=1e-4, critic_lr=1e-3, seed=None, clear_replay=True):\n",
    "        super().init_training(actor_lr=actor_lr, critic_lr=critic_lr, seed=seed)\n",
    "        \n",
    "        # make the actor / critic target same as the actor and critic\n",
    "        # initialized by the super class\n",
    "        self.actor_target = ActorDDPGNetwork(state_size, action_size, device=self.device)\n",
    "        self.critic_target =  CriticDDPGNetwork(state_size, action_size, device=self.device)\n",
    "        \n",
    "        # copy the target networks from the current actor / critic networks\n",
    "        self.actor_target.load_state_dict(self.actor.state_dict())\n",
    "        self.critic_target.load_state_dict(self.critic.state_dict())\n",
    "        \n",
    "        if clear_replay:\n",
    "            self.replay_buffer.clear()\n",
    "        \n",
    "    def reset_noise(self):\n",
    "        self.noise.reset()\n",
    "\n",
    "    def generate_noise(self):\n",
    "        return self.noise.sample()\n",
    "    \n",
    "    def step(self, state, action, reward, next_state, done):\n",
    "        state = state.reshape(-1)\n",
    "        next_state = next_state.reshape(-1)\n",
    "        action = action.reshape(-1)\n",
    "\n",
    "        state = self.normalize(state)\n",
    "        next_state = self.normalize(next_state)\n",
    "        \n",
    "        self.replay_buffer.add(Experience(state, action, reward, next_state, done))\n",
    "\n",
    "        # learn in case we have enough experience in replay buffer\n",
    "        if len(self.replay_buffer) >= self.replay_buffer.capacity:\n",
    "            if self.step_count == 0:\n",
    "                self._learn()\n",
    "                self.step_count = self.learn_every\n",
    "            else:\n",
    "                self.step_count -= 1\n",
    "\n",
    "    def _soft_update(self, target, local):\n",
    "        for target_param, local_param in zip(target.parameters(), local.parameters()):\n",
    "            #target_param.data.copy_(self.tau * local_param + (1 - self.tau) * target_param)\n",
    "            target_param.data.mul_(1 - self.tau)\n",
    "            target_param.data.add_(self.tau * local_param) \n",
    "        \n",
    "    def _learn(self):\n",
    "        states, actions, rewards, next_states, dones = self.replay_buffer.sample_batch()\n",
    "\n",
    "        # remove extra middle dimension i.e. go from (100,1,33) to (100, 33)\n",
    "        states = torch.from_numpy(states).squeeze(1).float().to(self.device)\n",
    "        next_states = torch.from_numpy(next_states).squeeze(1).float().to(self.device)\n",
    "        actions = torch.from_numpy(actions).squeeze(1).float().to(self.device)\n",
    "        \n",
    "        # convert the rest to tensors\n",
    "        rewards = torch.from_numpy(rewards).float().to(self.device)\n",
    "        dones = torch.from_numpy(dones).float().to(self.device)\n",
    "\n",
    "        #self._normalize_batch(states, next_states)\n",
    "        # critic\n",
    "        u_prime = lambda next_states: self.actor_target(next_states).detach()\n",
    "        q_prime = lambda next_states, next_actions: self.critic_target(next_states, next_actions)\n",
    "        q = lambda states, actions: self.critic(states, actions)\n",
    "        \n",
    "        q_next_action = u_prime(next_states)\n",
    "        q_next_value = q_prime(next_states, q_next_action)\n",
    "        \n",
    "        y = rewards + self.gamma * q_next_value * (1 - dones)\n",
    "                  \n",
    "        mse_loss= nn.MSELoss()\n",
    "        q_state_action = q(states, actions)\n",
    "        \n",
    "        # compute loss and back propogate\n",
    "        \n",
    "        critic_loss = mse_loss(q_state_action, y)\n",
    "        \n",
    "        self.critic_optim.zero_grad()\n",
    "        critic_loss.backward()\n",
    "        self.critic_optim.step()\n",
    "        \n",
    "        # actor\n",
    "        actions_pred = self.actor(states)\n",
    "        actor_loss = -self.critic(states, actions_pred).mean()\n",
    "        \n",
    "        self.actor_optim.zero_grad()\n",
    "        actor_loss.backward()\n",
    "        self.actor_optim.step()\n",
    "        \n",
    "        # update targets\n",
    "        self._soft_update(self.critic_target, self.critic)\n",
    "        self._soft_update(self.actor_target, self.actor)\n"
   ]
  },
  {
   "cell_type": "markdown",
   "metadata": {},
   "source": [
    "# Run Agent\n",
    "\n",
    "Execute and train agent in the target environment"
   ]
  },
  {
   "cell_type": "code",
   "execution_count": 11,
   "metadata": {},
   "outputs": [
    {
     "name": "stdout",
     "output_type": "stream",
     "text": [
      "Using device: cuda\n",
      "Episode: 50, Score: 0.6387999857217074, Last 100 score: 0.6387999857217074\n",
      "Episode: 100, Score: 1.0624999762512743, Last 100 score: 1.0624999762512743\n",
      "Episode: 150, Score: 1.4427333010857304, Last 100 score: 1.844699958767742\n",
      "Episode: 200, Score: 2.0804999534972013, Last 100 score: 3.0984999307431282\n",
      "Episode: 250, Score: 3.9521199116632344, Last 100 score: 7.71619982752949\n",
      "Episode: 300, Score: 7.532266498307387, Last 100 score: 18.435799587927757\n",
      "Episode: 350, Score: 11.420314030450369, Last 100 score: 30.090799327418207\n",
      "\n",
      "score acheived!!! Last 100 score: 30.090799327418207\n",
      "done\n"
     ]
    }
   ],
   "source": [
    "import math\n",
    "import pickle\n",
    "from collections import deque\n",
    "\n",
    "def run_agent(agent):\n",
    "    env_info = env.reset(train_mode=False)[brain_name]\n",
    "    num_agents = len(env_info.agents)\n",
    "    state = env_info.vector_observations\n",
    "    done = False\n",
    "    \n",
    "    score = 0\n",
    "    \n",
    "    while not done:\n",
    "        action = agent.act(state)\n",
    "        info = env.step(action)[brain_name]\n",
    "\n",
    "        rewards = info.rewards\n",
    "        done = info.local_done\n",
    "    \n",
    "        score += reward\n",
    "        \n",
    "    print(f'Final score: {score}')\n",
    "\n",
    "\n",
    "def train_agent(agent, episodes=1000, max_t=2000):\n",
    "    agent.init_training()\n",
    "    \n",
    "    scores_100 = deque(maxlen = 100)\n",
    "    scores = []\n",
    "\n",
    "    env_info = env.reset(train_mode=True)[brain_name]\n",
    "    num_agents = len(env_info.agents)\n",
    "    state = env_info.vector_observations\n",
    "    print_every = 50\n",
    "    best_reward = -math.inf\n",
    "\n",
    "    for ep_no in range(1, episodes + 1):\n",
    "        ep_score = np.zeros(num_agents)\n",
    "        agent.reset_noise()\n",
    "        \n",
    "        for t in range(max_t):\n",
    "            action = agent.act(state, add_noise=True)\n",
    "            info = env.step(action)[brain_name]\n",
    "\n",
    "            next_states = info.vector_observations\n",
    "            rewards = info.rewards\n",
    "            dones = info.local_done\n",
    "            \n",
    "            agent.step(state, action, rewards, next_states, dones)\n",
    "            \n",
    "            state = next_states\n",
    "            ep_score += rewards\n",
    "\n",
    "            print(f'Episode: {ep_no}.{t}, Episode Score: {ep_score}', end ='\\r')\n",
    "            if (np.any(dones)):\n",
    "                break\n",
    "             \n",
    "        scores.append(ep_score)\n",
    "        scores_100.append(ep_score)\n",
    "        \n",
    "        if ep_score > best_reward:\n",
    "            best_reward = ep_score\n",
    "            agent.save(f'trained{ep_no}.pth')\n",
    "\n",
    "        print(f'Episode End: {ep_no}, Score: {np.mean(scores)}', end ='\\r')\n",
    "        if ep_no % print_every == 0:\n",
    "            print(f'Episode: {ep_no}, Score: {np.mean(scores)}, Last 100 score: {np.mean(scores_100)}')\n",
    "            \n",
    "        if len(scores_100) == 100 and np.mean(scores_100) >= 30.0:\n",
    "            print(f'\\r\\nscore acheived!!! Last 100 score: {np.mean(scores_100)}')\n",
    "            break\n",
    "    return scores, scores_100\n",
    "\n",
    "agent = DDPGAgent('cuda' if torch.cuda.is_available() else 'cpu')\n",
    "scores, scores_100 = train_agent(agent, episodes=400, max_t=2000)\n",
    "print('done')"
   ]
  },
  {
   "cell_type": "markdown",
   "metadata": {},
   "source": [
    "## Plot of All Episodes"
   ]
  },
  {
   "cell_type": "code",
   "execution_count": 12,
   "metadata": {},
   "outputs": [
    {
     "data": {
      "image/png": "[encoded data removed]",
      "text/plain": [
       "<Figure size 432x288 with 1 Axes>"
      ]
     },
     "metadata": {
      "needs_background": "light"
     },
     "output_type": "display_data"
    }
   ],
   "source": [
    "import matplotlib.pyplot as plt\n",
    "\n",
    "fig = plt.figure()\n",
    "ax = fig.add_subplot(111)\n",
    "plt.plot(np.arange(1, len(scores)+1), scores)\n",
    "plt.ylabel('Score')\n",
    "plt.xlabel('Episode #')\n",
    "plt.show()"
   ]
  },
  {
   "cell_type": "markdown",
   "metadata": {},
   "source": [
    "## Plot of Last 100 Episodes"
   ]
  },
  {
   "cell_type": "code",
   "execution_count": 13,
   "metadata": {},
   "outputs": [
    {
     "data": {
      "image/png": "[encoded data removed]",
      "text/plain": [
       "<Figure size 432x288 with 1 Axes>"
      ]
     },
     "metadata": {
      "needs_background": "light"
     },
     "output_type": "display_data"
    }
   ],
   "source": [
    "import matplotlib.pyplot as plt\n",
    "\n",
    "fig = plt.figure()\n",
    "ax = fig.add_subplot(111)\n",
    "plt.plot(np.arange(1, len(scores_100)+1), scores_100)\n",
    "plt.ylabel('Score')\n",
    "plt.xlabel('Episode #')\n",
    "plt.show()"
   ]
  },
  {
   "cell_type": "markdown",
   "metadata": {},
   "source": [
    "## Save Final Trained Weights"
   ]
  },
  {
   "cell_type": "code",
   "execution_count": 14,
   "metadata": {},
   "outputs": [],
   "source": [
    "agent.save('final_weights.pth')"
   ]
  }
 ],
 "metadata": {
  "kernelspec": {
   "display_name": "Python 3",
   "language": "python",
   "name": "python3"
  },
  "language_info": {
   "codemirror_mode": {
    "name": "ipython",
    "version": 3
   },
   "file_extension": ".py",
   "mimetype": "text/x-python",
   "name": "python",
   "nbconvert_exporter": "python",
   "pygments_lexer": "ipython3",
   "version": "3.6.13"
  }
 },
 "nbformat": 4,
 "nbformat_minor": 2
}
